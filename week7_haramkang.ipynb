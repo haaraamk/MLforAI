{
  "nbformat": 4,
  "nbformat_minor": 0,
  "metadata": {
    "colab": {
      "provenance": [],
      "authorship_tag": "ABX9TyO1SEh0O0Bx3lbUNfOqyjm6",
      "include_colab_link": true
    },
    "kernelspec": {
      "name": "python3",
      "display_name": "Python 3"
    },
    "language_info": {
      "name": "python"
    }
  },
  "cells": [
    {
      "cell_type": "markdown",
      "metadata": {
        "id": "view-in-github",
        "colab_type": "text"
      },
      "source": [
        "<a href=\"https://colab.research.google.com/github/haaraamk/MLforAI/blob/main/week7_haramkang.ipynb\" target=\"_parent\"><img src=\"https://colab.research.google.com/assets/colab-badge.svg\" alt=\"Open In Colab\"/></a>"
      ]
    },
    {
      "cell_type": "code",
      "execution_count": null,
      "metadata": {
        "id": "bzI7a20kwHwP"
      },
      "outputs": [],
      "source": [
        "#Regular Expression (\"regex\"): describes a pattern of text\n",
        "\n",
        "https://www.nextree.co.kr/p4327/"
      ]
    },
    {
      "cell_type": "markdown",
      "source": [
        "Character classes\n",
        "\n",
        "1. . any character except newline\n",
        "\n",
        "2. \\w \\d \\s word, digit, whitespace\n",
        "\n",
        "3. \\W \\D \\S not word, not digit, not whitespace\n",
        "\n",
        "4. [abc] any of a, b, or c\n",
        "\n",
        "5. [^abc] not a, b, or c6. [a-h] character between a & h"
      ],
      "metadata": {
        "id": "tx_f6eaMwkVn"
      }
    },
    {
      "cell_type": "markdown",
      "source": [
        "Anchors\n",
        "\n",
        "1. ^abc$start / end of the string\n",
        "\n",
        "2. \\b \\Bword boundary, not-word boundary"
      ],
      "metadata": {
        "id": "igB9AYw1wxBU"
      }
    },
    {
      "cell_type": "markdown",
      "source": [
        "Quantifiers\n",
        "\n",
        "1. a* a+ a? 0 or more, 1 or more, 0 or 1\n",
        "\n",
        "2. a{5} a{2,}exactly five, two or more\n",
        "\n",
        "3. a{1,3} between 1 and 34. a+? A{2,}?match as few as possible"
      ],
      "metadata": {
        "id": "LQBg3Atow8sl"
      }
    },
    {
      "cell_type": "markdown",
      "source": [
        "Groups\n",
        "\n",
        "1. (abc) capture group\n",
        "\n",
        "2. \\1backreferenceto group #1\n",
        "\n",
        "3. (?:abc)non-capturing group"
      ],
      "metadata": {
        "id": "1ArymXnKw-4m"
      }
    },
    {
      "cell_type": "markdown",
      "source": [
        "# Goal for this practice session\n",
        "\n",
        "* Practice regular expression codes\n",
        "\n",
        "* Try running ch1 codes of ML book"
      ],
      "metadata": {
        "id": "42iF1kNCeNr-"
      }
    },
    {
      "cell_type": "markdown",
      "source": [
        "# Tasks for today 1"
      ],
      "metadata": {
        "id": "DQO3ULg5eXxm"
      }
    },
    {
      "cell_type": "markdown",
      "source": [
        "4aa  13\n",
        "aba b44\n",
        "ababaa5\n",
        "yaya---\n",
        "ikwak2@cau.ac.kr\n",
        "il.youp.kwak@gmail.com\n",
        "02-111-1234\n",
        "010-3234-5555\n",
        "01032321111\n",
        "hello send me a message(name.kwak@cau.ac.kr)\n",
        "callme(032 111 1424)"
      ],
      "metadata": {
        "id": "lZA1s2FoeC42"
      }
    },
    {
      "cell_type": "markdown",
      "source": [
        "Try to extract phone numbers"
      ],
      "metadata": {
        "id": "33zd7t0oedvm"
      }
    },
    {
      "cell_type": "markdown",
      "source": [
        "\\b: 단어 경계 (앞뒤로 공백, 구두점 등이 없는 부분).\n",
        "\n",
        "\\d{2,3}: 2 또는 3자리의 숫자 (국가 번호를 나타내는 부분).\n",
        "\n",
        "[-\\s]?: 하이픈(-) 또는 공백(\\s) 문자가 0 또는 1회 나타날 수 있음을 나타냅니다.\n",
        "\n",
        "\\d{3,4}: 3 또는 4자리의 숫자 (지역 번호 또는 나머지 전화번호 부분).\n",
        "\n",
        "\\d{4}: 4자리의 숫자 (전화번호 끝 부분).\n",
        "\n",
        "\\b: 단어 경계 (앞뒤로 공백, 구두점 등이 없는 부분)."
      ],
      "metadata": {
        "id": "l71FNVgAd7ec"
      }
    },
    {
      "cell_type": "markdown",
      "source": [
        "\\bword\\b: \"word\"와 정확히 일치하는 위치를 찾음.\n",
        "\n",
        "\\b\\d{3}\\b: 세 자리 숫자와 정확히 일치하는 위치를 찾음.\n",
        "\n",
        "\\b\\w+\\b: 단어 문자로 이루어진 단어와 일치하는 위치를 찾음."
      ],
      "metadata": {
        "id": "uUiEJ-UPfby4"
      }
    },
    {
      "cell_type": "markdown",
      "source": [
        "# Tasks for today 2"
      ],
      "metadata": {
        "id": "kk2xLDP1el3l"
      }
    },
    {
      "cell_type": "markdown",
      "source": [
        "* Open ch1 of ML book, Practice codes"
      ],
      "metadata": {
        "id": "P5nSxOWMexdt"
      }
    },
    {
      "cell_type": "markdown",
      "source": [
        "# Tasks for today 3"
      ],
      "metadata": {
        "id": "GlhNJoB6juLM"
      }
    },
    {
      "cell_type": "markdown",
      "source": [
        "* You can practice last year’s mid-term problems"
      ],
      "metadata": {
        "id": "_3ZbKmBNkVGV"
      }
    },
    {
      "cell_type": "code",
      "source": [
        "sort_values(ascending=False)"
      ],
      "metadata": {
        "id": "gWcnal23qdJU"
      },
      "execution_count": null,
      "outputs": []
    },
    {
      "cell_type": "code",
      "source": [
        "# 고유한 값의 수 찾기\n",
        "\n",
        "covid['countriesAndTerritories'].nunique()"
      ],
      "metadata": {
        "id": "pjq8KtX-qgqU"
      },
      "execution_count": null,
      "outputs": []
    },
    {
      "cell_type": "code",
      "source": [
        "## Your code here\n",
        "df = covid[covid['countriesAndTerritories'].str.startswith('A')]\n",
        "# 2020년 5월, 6월 및 7월에 해당하는 데이터 추출\n",
        "df1 = df['2020-05-01':'2020-07-31']\n",
        "# 날짜열이 인덱스 일 때만 이 방법을 사용할 수 있음"
      ],
      "metadata": {
        "id": "pPwRRodcqi-u"
      },
      "execution_count": null,
      "outputs": []
    },
    {
      "cell_type": "code",
      "source": [
        "## Your codes here\n",
        "# 주어진 데이터프레임 (예: 'df')에서 'countryterritoryCode'를 기준으로 'cases'와 'deaths' 변수를 넓은 형식으로 변환\n",
        "wide_data = df1.pivot(columns='countryterritoryCode', values=['cases', 'deaths'])"
      ],
      "metadata": {
        "id": "QOy4LhbPqlPl"
      },
      "execution_count": null,
      "outputs": []
    },
    {
      "cell_type": "code",
      "source": [
        "### Your code here:\n",
        "# 주어진 데이터프레임 (예: 'df')에서 'countryterritoryCode'를 기준으로 'cases' 합계 구하기\n",
        "df1.groupby('countryterritoryCode')['cases'].sum().sort_values(ascending=False)\n",
        "# sort_values(ascending=False) : 내림차순으로 정렬"
      ],
      "metadata": {
        "id": "0P5CRGNApqBs"
      },
      "execution_count": null,
      "outputs": []
    }
  ]
}