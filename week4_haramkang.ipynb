{
  "nbformat": 4,
  "nbformat_minor": 0,
  "metadata": {
    "colab": {
      "provenance": [],
      "authorship_tag": "ABX9TyM+b0C6iRGfm3f481hHRQTp",
      "include_colab_link": true
    },
    "kernelspec": {
      "name": "python3",
      "display_name": "Python 3"
    },
    "language_info": {
      "name": "python"
    }
  },
  "cells": [
    {
      "cell_type": "markdown",
      "metadata": {
        "id": "view-in-github",
        "colab_type": "text"
      },
      "source": [
        "<a href=\"https://colab.research.google.com/github/haaraamk/MLforAI/blob/main/week4_haramkang.ipynb\" target=\"_parent\"><img src=\"https://colab.research.google.com/assets/colab-badge.svg\" alt=\"Open In Colab\"/></a>"
      ]
    },
    {
      "cell_type": "markdown",
      "source": [
        "# Goal for this practice session"
      ],
      "metadata": {
        "id": "SiimAxb4O3FP"
      }
    },
    {
      "cell_type": "markdown",
      "source": [
        "* Learn pandasdataframe, how to manipulate data\n",
        "* Try running ch3 codes\n",
        "* Use code below to download data"
      ],
      "metadata": {
        "id": "_fGSut43QCUl"
      }
    },
    {
      "cell_type": "markdown",
      "source": [
        "# Tasks for today 1"
      ],
      "metadata": {
        "id": "tePTJeyVPApY"
      }
    },
    {
      "cell_type": "markdown",
      "source": [
        "1. Open ch3, 4-reshaping_data.ipynb"
      ],
      "metadata": {
        "id": "dRWgUj8QPwQ0"
      }
    },
    {
      "cell_type": "markdown",
      "source": [
        "2. Practice pivoting and unstack"
      ],
      "metadata": {
        "id": "bzTUSVYOP03c"
      }
    },
    {
      "cell_type": "markdown",
      "source": [
        "Pivoting은 데이터프레임의 구조를 변경하여 데이터를 재정렬하는 작업을 말합니다. 특히, 열(Column)을 행(Row) 인덱스로 바꾸는 경우에 많이 사용됩니다.\n",
        "\n",
        "pivot 메서드를 사용하여 특정 열을 행 인덱스로 설정하고, 다른 열을 새로운 열로 생성할 수 있습니다."
      ],
      "metadata": {
        "id": "r1gkujBCRcBy"
      }
    },
    {
      "cell_type": "code",
      "source": [
        "pivoted_df = df.pivot(index='Date', columns='Item', values='Value')"
      ],
      "metadata": {
        "id": "XzKwVtr9R7Ii"
      },
      "execution_count": null,
      "outputs": []
    },
    {
      "cell_type": "markdown",
      "source": [
        "Unstacking은 다중 인덱스를 가지는 데이터프레임에서 특정 인덱스 레벨을 열로 이동시키는 작업입니다. 이를 위해 unstack 메서드를 사용합니다."
      ],
      "metadata": {
        "id": "4W3kAJybSAQY"
      }
    },
    {
      "cell_type": "markdown",
      "source": [
        "3. Practice melting and stack"
      ],
      "metadata": {
        "id": "wYwf986SP3W4"
      }
    },
    {
      "cell_type": "markdown",
      "source": [
        "Melting은 데이터프레임의 열(Column) 구조를 변경하여 \"와이드 형식\"에서 \"롱 형식\"으로 데이터를 재구성하는 작업입니다.\n",
        "\n",
        "melt 함수를 사용하여 여러 열을 단일 열로 정리할 수 있습니다.\n",
        "\n",
        "예를 들어, 다음과 같은 \"와이드 형식\"의 데이터프레임이 있다고 가정해보겠습니다:"
      ],
      "metadata": {
        "id": "OnE5V6zWS1HE"
      }
    },
    {
      "cell_type": "code",
      "source": [
        "melted_df = df.melt(id_vars='Date', var_name='Item', value_name='Value')"
      ],
      "metadata": {
        "id": "wb-u98eNS4U4"
      },
      "execution_count": null,
      "outputs": []
    },
    {
      "cell_type": "markdown",
      "source": [
        "Stacking은 다중 열을 가지는 데이터프레임에서 열을 로우로 이동시키는 작업입니다. 이를 위해 stack 메서드를 사용합니다."
      ],
      "metadata": {
        "id": "I1njpeYWS7Sx"
      }
    },
    {
      "cell_type": "markdown",
      "source": [
        "# Tasks for today 2"
      ],
      "metadata": {
        "id": "n2acYuoKPYfH"
      }
    },
    {
      "cell_type": "markdown",
      "source": [
        "* Open ch3, 5-handling_data_issues.ipynb"
      ],
      "metadata": {
        "id": "GbqdyFaePhTb"
      }
    },
    {
      "cell_type": "markdown",
      "source": [
        "* Practice Finding problematic data part"
      ],
      "metadata": {
        "id": "fMhZ-gDnP8Eg"
      }
    },
    {
      "cell_type": "markdown",
      "source": [
        "* Practice Mitigating Issues part"
      ],
      "metadata": {
        "id": "MRfKP0Q9P8Mv"
      }
    }
  ]
}